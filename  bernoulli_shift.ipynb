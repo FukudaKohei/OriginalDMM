{
 "cells": [
  {
   "cell_type": "code",
   "execution_count": 10,
   "metadata": {},
   "outputs": [
    {
     "ename": "ImportError",
     "evalue": "cannot import name 'linalg' from 'torch' (/opt/anaconda3/lib/python3.8/site-packages/torch/__init__.py)",
     "output_type": "error",
     "traceback": [
      "\u001b[0;31m---------------------------------------------------------------------------\u001b[0m",
      "\u001b[0;31mImportError\u001b[0m                               Traceback (most recent call last)",
      "\u001b[0;32m<ipython-input-10-e5fe5c8616fc>\u001b[0m in \u001b[0;36m<module>\u001b[0;34m\u001b[0m\n\u001b[1;32m      1\u001b[0m \u001b[0;32mimport\u001b[0m \u001b[0mtorch\u001b[0m\u001b[0;34m\u001b[0m\u001b[0;34m\u001b[0m\u001b[0m\n\u001b[0;32m----> 2\u001b[0;31m \u001b[0;32mfrom\u001b[0m \u001b[0mtorch\u001b[0m \u001b[0;32mimport\u001b[0m \u001b[0mlinalg\u001b[0m\u001b[0;34m\u001b[0m\u001b[0;34m\u001b[0m\u001b[0m\n\u001b[0m",
      "\u001b[0;31mImportError\u001b[0m: cannot import name 'linalg' from 'torch' (/opt/anaconda3/lib/python3.8/site-packages/torch/__init__.py)"
     ]
    }
   ],
   "source": [
    "import torch\n",
    "from torch import linalg"
   ]
  },
  {
   "cell_type": "code",
   "execution_count": 71,
   "metadata": {},
   "outputs": [],
   "source": [
    "N = 100\n",
    "length = 50\n",
    "dim = 20\n",
    "z_pri = torch.ones(N, length, dim)\n",
    "# z_pos = torch.randn(N, length, dim)\n",
    "z_pos = torch.zeros(N, length, dim)\n",
    "\n",
    "def kernel__of_one_batch(Z_1, Z_2, sigma=100):\n",
    "    length, dim = Z_1.size(0), Z_1.size(1)\n",
    "    Z_1 = Z_1.reshape(length*dim)\n",
    "    Z_2 = Z_2.reshape(length*dim)\n",
    "    l2_norm = torch.norm(Z_1 - Z_2)*torch.norm(Z_1 - Z_2)\n",
    "    kernel = torch.exp(-(l2_norm /(2*sigma)))\n",
    "    return kernel\n",
    "\n",
    "def kernel_of_different_batch(z_1, z_2, sigma):\n",
    "    N = z_1.size(0)\n",
    "    kernel = 0\n",
    "    for i in range(N):\n",
    "        for j in range(N):\n",
    "            kernel += kernel__of_one_batch(z_1[i], z_2[j], sigma=sigma)\n",
    "    return kernel\n",
    "\n",
    "def kernel_of_same_batch(z_1, z_2, sigma):\n",
    "    N = z_1.size(0)\n",
    "    kernel = 0\n",
    "    for i in range(N):\n",
    "        for j in range(N):\n",
    "            if i != j:\n",
    "                kernel += kernel__of_one_batch(z_1[i], z_2[j], sigma=sigma)\n",
    "    return kernel\n",
    "\n",
    "def calc_kernel(z_1, z_2, lam, sigma=100):\n",
    "    N = z_1.size(0)\n",
    "    kernel = 0\n",
    "    kernel += (lam/(N*(N-1))) * (kernel_of_same_batch(z_1, z_1, sigma=sigma) + kernel_of_same_batch(z_2, z_2, sigma=sigma))\n",
    "    kernel += ((-2*lam)/(N*N)) * kernel_of_different_batch(z_1, z_2, sigma=sigma)\n",
    "    return kernel\n"
   ]
  },
  {
   "cell_type": "code",
   "execution_count": 72,
   "metadata": {},
   "outputs": [
    {
     "name": "stdout",
     "output_type": "stream",
     "text": [
      "tensor(1.9865)\n"
     ]
    }
   ],
   "source": [
    "ans = calc_kernel(z_pri, z_pos, lam=1.)\n",
    "print(ans)"
   ]
  },
  {
   "cell_type": "code",
   "execution_count": 19,
   "metadata": {},
   "outputs": [
    {
     "name": "stdout",
     "output_type": "stream",
     "text": [
      "tensor(14.7986)\n",
      "tensor(23.)\n"
     ]
    }
   ],
   "source": [
    "a = torch.tensor([[3.,4.],[4.,3.],[5.,12.]])\n",
    "print(torch.norm(a))\n",
    "print(torch.norm(a, dim=1))"
   ]
  },
  {
   "cell_type": "code",
   "execution_count": null,
   "metadata": {},
   "outputs": [],
   "source": []
  }
 ],
 "metadata": {
  "interpreter": {
   "hash": "40d3a090f54c6569ab1632332b64b2c03c39dcf918b08424e98f38b5ae0af88f"
  },
  "kernelspec": {
   "display_name": "Python 3.8.3 64-bit ('base': conda)",
   "language": "python",
   "name": "python3"
  },
  "language_info": {
   "codemirror_mode": {
    "name": "ipython",
    "version": 3
   },
   "file_extension": ".py",
   "mimetype": "text/x-python",
   "name": "python",
   "nbconvert_exporter": "python",
   "pygments_lexer": "ipython3",
   "version": "3.8.3"
  },
  "orig_nbformat": 4
 },
 "nbformat": 4,
 "nbformat_minor": 2
}

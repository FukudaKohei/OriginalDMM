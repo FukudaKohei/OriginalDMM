{
 "metadata": {
  "language_info": {
   "codemirror_mode": {
    "name": "ipython",
    "version": 3
   },
   "file_extension": ".py",
   "mimetype": "text/x-python",
   "name": "python",
   "nbconvert_exporter": "python",
   "pygments_lexer": "ipython3",
   "version": "3.8.5"
  },
  "orig_nbformat": 2,
  "kernelspec": {
   "name": "python385jvsc74a57bd074e73a0e7102a893564b6115a2124e9976edb53d12febb5cf682a47c83cf5635",
   "display_name": "Python 3.8.5 64-bit ('base': conda)"
  }
 },
 "nbformat": 4,
 "nbformat_minor": 2,
 "cells": [
  {
   "cell_type": "code",
   "execution_count": 1,
   "metadata": {},
   "outputs": [],
   "source": [
    "import numpy as np"
   ]
  },
  {
   "source": [
    "# Algorithm 1"
   ],
   "cell_type": "markdown",
   "metadata": {}
  },
  {
   "cell_type": "code",
   "execution_count": 50,
   "metadata": {},
   "outputs": [],
   "source": [
    "def Algo_1(q_old, e_old, dtype):\n",
    "    # 設定\n",
    "    dim_pls_1 = q_old.shape[0]\n",
    "    q_new = np.zeros(dim_pls_1, dtype = dtype)\n",
    "    e_new = np.zeros(dim_pls_1, dtype = dtype)\n",
    "\n",
    "    # 計算\n",
    "    for i in range(1, dim_pls_1): \n",
    "        q_new[i] = q_old[i] - e_new[i-1] + e_old[i]\n",
    "        if i != dim_pls_1 -1:\n",
    "            e_new[i] = e_old[i] * q_old[i+1] / q_new[i]\n",
    "        else:\n",
    "            e_new[i] = 0\n",
    "    return q_new, e_new"
   ]
  },
  {
   "source": [
    "# Algorithm 2"
   ],
   "cell_type": "markdown",
   "metadata": {}
  },
  {
   "cell_type": "code",
   "execution_count": 54,
   "metadata": {},
   "outputs": [],
   "source": [
    "def Algo_2(q_old, e_old, dtype):\n",
    "    # 設定\n",
    "    dim_pls_1 = q_old.shape[0]\n",
    "    q_new = np.zeros(dim_pls_1, dtype = dtype)\n",
    "    e_new = np.zeros(dim_pls_1, dtype = dtype)\n",
    "    d_old = np.zeros(dim_pls_1, dtype = dtype)\n",
    "    d_old[1] = q_old[1]\n",
    "\n",
    "    # 計算\n",
    "    for i in range(1, dim_pls_1):\n",
    "        q_new[i] = d_old[i] + e_old[i]\n",
    "        if i != dim_pls_1 -1:\n",
    "            e_new[i] = e_old[i] * q_old[i+1] / q_new[i]\n",
    "            d_old[i+1] = d_old[i] * q_old[i+1] / q_new[i]\n",
    "    return q_new, e_new, d_old"
   ]
  },
  {
   "source": [
    "# Class化"
   ],
   "cell_type": "markdown",
   "metadata": {}
  },
  {
   "cell_type": "code",
   "execution_count": 86,
   "metadata": {},
   "outputs": [],
   "source": [
    "class kadai():\n",
    "    def __init__(self, dtype):\n",
    "        self.dtype = dtype\n",
    "        self.A = np.array([\\\n",
    "                [1., 4., 0., 0., 0., 0., 0., 0.],\\\n",
    "                [0., 4., 1., 0., 0., 0., 0., 0.],\\\n",
    "                [0., 0., 3., 4., 0., 0., 0., 0.],\\\n",
    "                [0., 0., 0., 3., 2., 0., 0., 0.],\\\n",
    "                [0., 0., 0., 0., 4., 8., 0., 0.],\\\n",
    "                [0., 0., 0., 0., 0., 1., 6., 0.],\\\n",
    "                [0., 0., 0., 0., 0., 0., 5., 2.],\\\n",
    "                [0., 0., 0., 0., 0., 0., 0., 2.],\\\n",
    "                ],\\\n",
    "                dtype = dtype)\n",
    "    \n",
    "    def ex_1(self, iter):\n",
    "        # 初期設定\n",
    "        dim = self.A.shape[0]\n",
    "        q = np.zeros(dim + 1, dtype = self.dtype)\n",
    "        e = np.zeros(dim + 1, dtype = self.dtype)\n",
    "        for i in range(1, dim+ 1):\n",
    "            q[i] = self.A[i-1][i-1] ** 2\n",
    "            if i != dim:\n",
    "                e[i] = self.A[i-1][i] ** 2\n",
    "\n",
    "        # 反復計算\n",
    "        for i in range(iter):\n",
    "            q, e = Algo_1(q, e, self.dtype)\n",
    "\n",
    "        print(\"Algorithm_1 with dtype = \" + self.dtype)\n",
    "        print(\"q = \", q)\n",
    "        print(\"e = \", e, end=\"\\n\\n\")\n",
    "        return q, e\n",
    "\n",
    "    def ex_2(self, iter):\n",
    "        # 初期設定\n",
    "        dim = self.A.shape[0]\n",
    "        q = np.zeros(dim + 1, dtype = self.dtype)\n",
    "        e = np.zeros(dim + 1, dtype = self.dtype)\n",
    "        for i in range(1, dim+ 1):\n",
    "            q[i] = self.A[i-1][i-1] ** 2\n",
    "            if i != dim:\n",
    "                e[i] = self.A[i-1][i] ** 2\n",
    "\n",
    "        # 反復計算\n",
    "        for i in range(iter):\n",
    "            q, e, d = Algo_2(q, e, self.dtype)\n",
    "\n",
    "        print(\"Algorithm_2 with dtype = \" + self.dtype)\n",
    "        print(\"q = \", q)\n",
    "        print(\"e = \", e)\n",
    "        print(\"d = \", d, end=\"\\n\\n\")\n",
    "        return q, e, d"
   ]
  },
  {
   "cell_type": "code",
   "execution_count": 110,
   "metadata": {},
   "outputs": [
    {
     "output_type": "stream",
     "name": "stdout",
     "text": [
      "Algorithm_1 with dtype = float64\n",
      "q =  [0.00000000e+00 8.31209399e+01 6.16087440e+01 3.44752344e+01\n",
      " 3.07324283e+01 6.29206440e+00 5.12492046e+00 6.26758675e-01\n",
      " 1.89098218e-02]\n",
      "e =  [0.e+000 5.e-324 5.e-324 2.e-323 0.e+000 1.e-323 0.e+000 0.e+000 0.e+000]\n",
      "\n",
      "Algorithm_2 with dtype = float64\n",
      "q =  [0.00000000e+00 8.31209399e+01 6.16087440e+01 3.44752344e+01\n",
      " 3.07324283e+01 6.29206440e+00 5.12492046e+00 6.26758675e-01\n",
      " 1.89098218e-02]\n",
      "e =  [0.e+000 5.e-324 5.e-324 2.e-323 0.e+000 1.e-323 0.e+000 0.e+000 0.e+000]\n",
      "d =  [0.00000000e+00 8.31209399e+01 6.16087440e+01 3.44752344e+01\n",
      " 3.07324283e+01 6.29206440e+00 5.12492046e+00 6.26758675e-01\n",
      " 1.89098218e-02]\n",
      "\n",
      "Algorithm_1 with dtype = float32\n",
      "q =  [0.0000000e+00 8.3120918e+01 6.1608746e+01 3.4475239e+01 3.0732433e+01\n",
      " 6.2920661e+00 5.1249199e+00 6.2675852e-01 1.8910054e-02]\n",
      "e =  [0.e+00 1.e-45 1.e-45 6.e-45 0.e+00 3.e-45 0.e+00 0.e+00 0.e+00]\n",
      "\n",
      "Algorithm_2 with dtype = float32\n",
      "q =  [0.0000000e+00 8.3120895e+01 6.1608727e+01 3.4475220e+01 3.0732452e+01\n",
      " 6.2920656e+00 5.1249208e+00 6.2675864e-01 1.8909823e-02]\n",
      "e =  [0.e+00 1.e-45 1.e-45 6.e-45 0.e+00 3.e-45 0.e+00 0.e+00 0.e+00]\n",
      "d =  [0.0000000e+00 8.3120895e+01 6.1608727e+01 3.4475220e+01 3.0732452e+01\n",
      " 6.2920656e+00 5.1249208e+00 6.2675864e-01 1.8909823e-02]\n",
      "\n",
      "Error of Algo_1\n",
      "[ 0.00000000e+00  2.16649654e-05 -1.53757225e-06 -4.44577174e-06\n",
      " -5.00856278e-06 -1.69835324e-06  5.71359211e-07  1.59664781e-07\n",
      " -2.32316210e-07]\n",
      "Av =  4.414820703672016e-06\n",
      "\n",
      "Error of Algo_2\n",
      "[ 0.00000000e+00  4.45531490e-05  1.75359141e-05  1.46277146e-05\n",
      " -2.40820491e-05 -1.22151608e-06 -3.82315106e-07  4.04554916e-08\n",
      " -1.34821104e-09]\n",
      "Av =  1.2805557709764069e-05\n",
      "\n"
     ]
    }
   ],
   "source": [
    "Ac = kadai(\"float64\")\n",
    "No = kadai(\"float32\")\n",
    "\n",
    "iter = 1000\n",
    "ac_q1, ac_e1        = Ac.ex_1(10000)\n",
    "ac_q2, ac_e2, ac_d2 = Ac.ex_2(10000)\n",
    "no_q1, no_e1        = No.ex_1(iter)\n",
    "no_q2, no_e2, no_d2 = No.ex_2(iter)\n",
    "\n",
    "print(\"Error of Algo_1\")\n",
    "error = ac_q1 - no_q1\n",
    "av = abs(error[1:]).sum() / error[1:].shape[0]\n",
    "print(error)\n",
    "print(\"Av = \", av, end=\"\\n\\n\")\n",
    "\n",
    "print(\"Error of Algo_2\")\n",
    "error = ac_q1 - no_q2\n",
    "av = abs(error[1:]).sum() / error[1:].shape[0]\n",
    "print(error)\n",
    "print(\"Av = \", av, end=\"\\n\\n\")"
   ]
  }
 ]
}
{
 "metadata": {
  "language_info": {
   "codemirror_mode": {
    "name": "ipython",
    "version": 3
   },
   "file_extension": ".py",
   "mimetype": "text/x-python",
   "name": "python",
   "nbconvert_exporter": "python",
   "pygments_lexer": "ipython3",
   "version": "3.8.5-final"
  },
  "orig_nbformat": 2,
  "kernelspec": {
   "name": "python3",
   "display_name": "Python 3",
   "language": "python"
  }
 },
 "nbformat": 4,
 "nbformat_minor": 2,
 "cells": [
  {
   "cell_type": "code",
   "execution_count": 1,
   "metadata": {},
   "outputs": [],
   "source": [
    "import torch as t\n",
    "import torch.distributions as dist\n",
    "\n",
    "import mido\n",
    "from mido import Message, MidiFile, MidiTrack, MetaMessage\n",
    "\n",
    "from os.path import exists\n",
    "import time"
   ]
  },
  {
   "cell_type": "code",
   "execution_count": 2,
   "metadata": {},
   "outputs": [],
   "source": [
    "tf = 10\n",
    "alpha = 0.0001\n",
    "n_epochs = 1000\n",
    "\n",
    "s_st = 30.\n",
    "s_ts = 12.\n",
    "s_ex = 15.\n",
    "\n",
    "r_pc = 50.\n",
    "r_ve = 50.\n",
    "r_int= 50.\n",
    "\n",
    "# p_st = t.tensor([1.]*tf)\n",
    "# p_ts = t.tensor([0.]*tf)\n",
    "# p_ex = t.tensor([0.]*tf)\n",
    "# P_st = dist.Bernoulli(p_st)\n",
    "# P_ts = dist.Bernoulli(p_ts)\n",
    "# P_ex = dist.Bernoulli(p_ex)\n",
    "# p_st = P_st.sample()\n",
    "# p_ts = P_ts.sample()\n",
    "# p_ex = P_ex.sample()\n",
    "\n",
    "p_st = t.tensor([1., 1., 0., 1., 0., 1., 1., 0., 1., 1.])\n",
    "p_ts = t.tensor([0., 0., 0., 0., 1., 0., 0., 0., 0., 0.])\n",
    "p_ex = t.tensor([0., 0., 1., 0., 0., 0., 0., 1., 0., 0.])\n",
    "\n",
    "\n",
    "u_pc = t.rand(tf, requires_grad=True)*23\n",
    "u_ve = t.rand(tf, requires_grad=True)\n",
    "\n",
    "x_st_0 = t.tensor(1.)\n",
    "x_ts_0 = t.tensor(1.)\n",
    "x_ex_0 = t.tensor(1.)"
   ]
  },
  {
   "source": [
    "# 状態方程式からｘを求める"
   ],
   "cell_type": "markdown",
   "metadata": {}
  },
  {
   "cell_type": "code",
   "execution_count": 3,
   "metadata": {},
   "outputs": [],
   "source": [
    "def calc_x(u_pc, u_ve, x_st_0, x_ts_0, x_ex_0, tf):\n",
    "    x_st = []\n",
    "    x_ts = []\n",
    "    x_ex = []\n",
    "\n",
    "    x_st.append(x_st_0)\n",
    "    # x_st.append(-t.abs(u_pc[1]-u_pc[0]) % 2 - t.abs(u_ve[1]-u_ve[0]))\n",
    "    for i in range(1,tf):\n",
    "        x_st.append(t.abs((t.abs(u_pc[i]-u_pc[i-1]) % 2 - 1)) - t.abs(u_ve[i]-u_ve[i-1]))\n",
    "    \n",
    "    x_ts.append(x_ts_0)\n",
    "    # x_ts.append(x_st[0] * t.abs(u_pc[1]-u_pc[0]) % 2)\n",
    "    for i in range(1,tf):\n",
    "        x_ts.append(-x_st[i-1] * t.abs((t.abs(u_pc[i]-u_pc[i-1]) % 2 -1)))\n",
    "    \n",
    "    x_ex.append(x_ex_0)\n",
    "    # x_ex.append( (u_pc[1]-u_pc[0]) + (u_ve[1]-u_ve[0]))\n",
    "    for i in range(1,tf):\n",
    "        x_ex.append( (u_pc[i]-u_pc[i-1]) + (u_ve[i]-u_ve[i-1]))\n",
    "\n",
    "    x_st = t.stack(x_st)\n",
    "    x_ts = t.stack(x_ts)\n",
    "    x_ex = t.stack(x_ex)\n",
    "\n",
    "    return x_st, x_ts, x_ex"
   ]
  },
  {
   "source": [
    "# ステージコストを求める"
   ],
   "cell_type": "markdown",
   "metadata": {}
  },
  {
   "cell_type": "code",
   "execution_count": 4,
   "metadata": {},
   "outputs": [],
   "source": [
    "def calc_L(u_pc, u_ve, x_st, x_ts, x_ex, p_st, p_ts, p_ex, s_st, s_ts, s_ex, r_pc, r_ve, tf):\n",
    "    L = []\n",
    "    for i in range(tf):\n",
    "        bad_feeling = -p_st[i] * s_st * (x_st[i])\\\n",
    "                      -p_ts[i] * s_ts * (x_ts[i])\\\n",
    "                      -p_ex[i] * s_ex * (x_ex[i])\n",
    "        penalty = r_pc * (-t.min(t.tensor(0), u_pc[i]) - t.min(t.tensor(0), 23-u_pc[i]))\\\n",
    "                + r_int* (t.abs(u_pc[i]-t.round(u_pc[i])))\\\n",
    "                + r_ve * (-t.min(t.tensor(0), u_ve[i]) - t.min(t.tensor(0), 1-u_ve[i]))\n",
    "\n",
    "        L.append(bad_feeling + penalty)\n",
    "    L = t.stack(L)\n",
    "    return L\n",
    "        "
   ]
  },
  {
   "source": [
    "# λを求めて、Hを計算する"
   ],
   "cell_type": "markdown",
   "metadata": {}
  },
  {
   "cell_type": "code",
   "execution_count": 5,
   "metadata": {},
   "outputs": [],
   "source": [
    "def calc_H(L, x_st, x_ts, x_ex, tf):\n",
    "    H_reversed = []\n",
    "    lamda_st = 0.\n",
    "    lamda_ts = 0.\n",
    "    lamda_ex = 0.\n",
    "    for i in range(tf-2,-1,-1):\n",
    "        H = L[i] + lamda_st * x_st[i+1] + lamda_ts * x_ts[i+1] + lamda_ex * x_ex[i+1]\n",
    "        H_reversed.append(H)\n",
    "        x_st.retain_grad()\n",
    "        x_ts.retain_grad()\n",
    "        x_ex.retain_grad()\n",
    "        H.backward(retain_graph=True)\n",
    "        # H.backward()\n",
    "        lamda_st = x_st.grad[i]\n",
    "        lamda_ts = x_ts.grad[i]\n",
    "        lamda_ex = x_ex.grad[i]\n",
    "    H_list = t.stack(H_reversed)\n",
    "    H = t.flip(H_list,[0])\n",
    "    return H"
   ]
  },
  {
   "source": [
    "# 学習反復"
   ],
   "cell_type": "markdown",
   "metadata": {}
  },
  {
   "cell_type": "code",
   "execution_count": 6,
   "metadata": {
    "tags": []
   },
   "outputs": [
    {
     "output_type": "stream",
     "name": "stdout",
     "text": [
      "0\n",
      "100\n",
      "200\n",
      "300\n",
      "400\n",
      "500\n",
      "600\n",
      "700\n",
      "800\n",
      "900\n",
      "999\n"
     ]
    }
   ],
   "source": [
    "for i in range(n_epochs):\n",
    "    new_u_pc = t.zeros(tf)\n",
    "    new_u_ve = t.zeros(tf)\n",
    "    x_st, x_ts, x_ex = calc_x(u_pc, u_ve, x_st_0, x_ts_0, x_ex_0, tf)\n",
    "    L = calc_L(u_pc, u_ve, x_st, x_ts, x_ex, p_st, p_ts, p_ex, s_st, s_ts, s_ex, r_pc, r_ve, tf)\n",
    "    H = calc_H(L, x_st, x_ts, x_ex, tf)\n",
    "    for j in range(tf-1):\n",
    "        u_pc.retain_grad()\n",
    "        u_ve.retain_grad()\n",
    "        H[j].backward(retain_graph=True)\n",
    "        new_u_pc[j] = u_pc[j] - alpha * u_pc.grad[j]\n",
    "        new_u_ve[j] = u_ve[j] - alpha * u_ve.grad[j]\n",
    "    u_pc = new_u_pc.detach()\n",
    "    u_ve = new_u_ve.detach()\n",
    "    u_pc = t.tensor(u_pc,requires_grad=True)\n",
    "    u_ve = t.tensor(u_ve,requires_grad=True)\n",
    "\n",
    "    if i % 100 == 0 or i == n_epochs-1:\n",
    "        print(i)"
   ]
  },
  {
   "cell_type": "code",
   "execution_count": 7,
   "metadata": {},
   "outputs": [
    {
     "output_type": "stream",
     "name": "stdout",
     "text": [
      "tensor([10., 10.,  5.,  8., 13., 19.,  5.,  9., 23.,  0.],\n       grad_fn=<RoundBackward>)\ntensor([ 0.0151, -0.0031,  0.9890,  1.0011,  0.0148,  0.0262, -0.0052,  1.0084,\n         0.9851,  0.0000], requires_grad=True)\n"
     ]
    }
   ],
   "source": [
    "u_pc = t.round(u_pc)\n",
    "print(u_pc)\n",
    "print(u_ve)"
   ]
  },
  {
   "cell_type": "code",
   "execution_count": 8,
   "metadata": {},
   "outputs": [],
   "source": [
    "def save_as_midi(song, velocitys, path=\"\", name=\"default.mid\", BPM = 120, interval = 240):\n",
    "    mid = MidiFile()\n",
    "    track = MidiTrack()\n",
    "    mid.tracks.append(track)\n",
    "    track.append(MetaMessage('set_tempo', tempo=mido.bpm2tempo(BPM)))\n",
    "    for i, tones in enumerate(song):\n",
    "        which_tone = (tones == 1).nonzero().reshape(-1)\n",
    "        if len(which_tone) == 0:\n",
    "            track.append(Message('note_on', note=0, velocity=0, time=0))\n",
    "            track.append(Message('note_off', note=0, time=interval))\n",
    "        else:\n",
    "            for which in which_tone:\n",
    "                track.append(Message('note_on', note=int(which), velocity= 47+int(80*velocitys[i]), time=0))\n",
    "            for which in which_tone:\n",
    "                track.append(Message('note_off', note=int(which), time=interval))\n",
    "    mid.save(os.path.join(path, name))\n",
    "\n",
    "\n",
    "def listen_midi(name, path=\"\"):\n",
    "    ports = mido.get_output_names()\n",
    "    print(\"START\")\n",
    "    with mido.open_output(ports[0]) as outport:\n",
    "        for msg in mido.MidiFile(os.path.join(path,name)):\n",
    "            time.sleep(msg.time)\n",
    "            if not msg.is_meta:\n",
    "                # print(outport, msg)\n",
    "                outport.send(msg)\n",
    "    print(\"END\")"
   ]
  },
  {
   "cell_type": "code",
   "execution_count": 9,
   "metadata": {},
   "outputs": [],
   "source": [
    "shift = 50\n",
    "song = t.zeros(tf,88)\n",
    "for i in range(tf):\n",
    "    num = int(u_pc[i].detach().numpy()) + shift\n",
    "    song[i][num] = 1."
   ]
  },
  {
   "cell_type": "code",
   "execution_count": 10,
   "metadata": {},
   "outputs": [],
   "source": [
    "save_as_midi(song, u_ve, path=\"\", name=\"Balance.mid\", BPM = 120, interval = 360)"
   ]
  },
  {
   "cell_type": "code",
   "execution_count": 11,
   "metadata": {},
   "outputs": [
    {
     "output_type": "stream",
     "name": "stdout",
     "text": [
      "START\n",
      "END\n"
     ]
    }
   ],
   "source": [
    "listen_midi(name=\"Balance.mid\", path=\"\")"
   ]
  },
  {
   "cell_type": "code",
   "execution_count": null,
   "metadata": {},
   "outputs": [],
   "source": []
  }
 ]
}
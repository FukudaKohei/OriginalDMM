{
 "metadata": {
  "language_info": {
   "codemirror_mode": {
    "name": "ipython",
    "version": 3
   },
   "file_extension": ".py",
   "mimetype": "text/x-python",
   "name": "python",
   "nbconvert_exporter": "python",
   "pygments_lexer": "ipython3",
   "version": "3.8.5-final"
  },
  "orig_nbformat": 2,
  "kernelspec": {
   "name": "python3",
   "display_name": "Python 3",
   "language": "python"
  }
 },
 "nbformat": 4,
 "nbformat_minor": 2,
 "cells": [
  {
   "cell_type": "code",
   "execution_count": 1,
   "metadata": {},
   "outputs": [],
   "source": [
    "import torch"
   ]
  },
  {
   "cell_type": "code",
   "execution_count": 5,
   "metadata": {},
   "outputs": [],
   "source": [
    "a = torch.load(\"model\")"
   ]
  },
  {
   "cell_type": "code",
   "execution_count": 13,
   "metadata": {},
   "outputs": [
    {
     "output_type": "execute_result",
     "data": {
      "text/plain": [
       "31"
      ]
     },
     "metadata": {},
     "execution_count": 13
    }
   ],
   "source": [
    "len(a.keys())"
   ]
  },
  {
   "cell_type": "code",
   "execution_count": 18,
   "metadata": {},
   "outputs": [
    {
     "output_type": "stream",
     "name": "stdout",
     "text": [
      "z_0\ntorch.Size([100])\n\nz_q_0\ntorch.Size([100])\n\nh_0\ntorch.Size([1, 1, 600])\n\nemitter.lin_z_to_hidden.weight\ntorch.Size([100, 100])\n\nemitter.lin_z_to_hidden.bias\ntorch.Size([100])\n\nemitter.lin_hidden_to_hidden.weight\ntorch.Size([100, 100])\n\nemitter.lin_hidden_to_hidden.bias\ntorch.Size([100])\n\nemitter.lin_hidden_to_input.weight\ntorch.Size([88, 100])\n\nemitter.lin_hidden_to_input.bias\ntorch.Size([88])\n\ntrans.lin_gate_z_to_hidden.weight\ntorch.Size([200, 100])\n\ntrans.lin_gate_z_to_hidden.bias\ntorch.Size([200])\n\ntrans.lin_gate_hidden_to_z.weight\ntorch.Size([100, 200])\n\ntrans.lin_gate_hidden_to_z.bias\ntorch.Size([100])\n\ntrans.lin_proposed_mean_z_to_hidden.weight\ntorch.Size([200, 100])\n\ntrans.lin_proposed_mean_z_to_hidden.bias\ntorch.Size([200])\n\ntrans.lin_proposed_mean_hidden_to_z.weight\ntorch.Size([100, 200])\n\ntrans.lin_proposed_mean_hidden_to_z.bias\ntorch.Size([100])\n\ntrans.lin_sig.weight\ntorch.Size([100, 100])\n\ntrans.lin_sig.bias\ntorch.Size([100])\n\ntrans.lin_z_to_loc.weight\ntorch.Size([100, 100])\n\ntrans.lin_z_to_loc.bias\ntorch.Size([100])\n\ncombiner.lin_z_to_hidden.weight\ntorch.Size([600, 100])\n\ncombiner.lin_z_to_hidden.bias\ntorch.Size([600])\n\ncombiner.lin_hidden_to_loc.weight\ntorch.Size([100, 600])\n\ncombiner.lin_hidden_to_loc.bias\ntorch.Size([100])\n\ncombiner.lin_hidden_to_scale.weight\ntorch.Size([100, 600])\n\ncombiner.lin_hidden_to_scale.bias\ntorch.Size([100])\n\nrnn.weight_ih_l0\ntorch.Size([600, 88])\n\nrnn.weight_hh_l0\ntorch.Size([600, 600])\n\nrnn.bias_ih_l0\ntorch.Size([600])\n\nrnn.bias_hh_l0\ntorch.Size([600])\n\n"
     ]
    }
   ],
   "source": [
    "for name in a.keys():\n",
    "    print(name)\n",
    "    print(a[name].shape)\n",
    "    print(\"\")"
   ]
  },
  {
   "cell_type": "code",
   "execution_count": 16,
   "metadata": {},
   "outputs": [
    {
     "output_type": "execute_result",
     "data": {
      "text/plain": [
       "100"
      ]
     },
     "metadata": {},
     "execution_count": 16
    }
   ],
   "source": [
    "len(a[\"z_0\"])"
   ]
  },
  {
   "cell_type": "code",
   "execution_count": null,
   "metadata": {},
   "outputs": [],
   "source": []
  }
 ]
}
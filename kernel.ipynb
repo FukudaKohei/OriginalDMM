{
 "cells": [
  {
   "cell_type": "code",
   "execution_count": 2,
   "metadata": {},
   "outputs": [],
   "source": [
    "import torch"
   ]
  },
  {
   "cell_type": "code",
   "execution_count": 15,
   "metadata": {},
   "outputs": [],
   "source": [
    "# RBF kernel\n",
    "def kernel__of_one_batch(Z_1, Z_2, sigma):\n",
    "    length, dim = Z_1.size(0), Z_1.size(1)\n",
    "    Z_1 = Z_1.reshape(length*dim)\n",
    "    Z_2 = Z_2.reshape(length*dim)\n",
    "    l2_norm = torch.norm(Z_1 - Z_2)*torch.norm(Z_1 - Z_2)\n",
    "    kernel = torch.exp(-(l2_norm /(2*sigma)))\n",
    "    return kernel\n",
    "\n",
    "def kernel_of_different_batch(z_1, z_2, sigma):\n",
    "    N = z_1.size(0)\n",
    "    kernel = 0\n",
    "    for i in range(N):\n",
    "        for j in range(N):\n",
    "            kernel += kernel__of_one_batch(z_1[i], z_2[j], sigma=sigma)\n",
    "    return kernel\n",
    "\n",
    "def kernel_of_same_batch(z_1, z_2, sigma):\n",
    "    N = z_1.size(0)\n",
    "    kernel = 0\n",
    "    for i in range(N):\n",
    "        for j in range(N):\n",
    "            if i != j:\n",
    "                kernel += kernel__of_one_batch(z_1[i], z_2[j], sigma=sigma)\n",
    "    return kernel\n",
    "\n",
    "def calc_kernel(z_1, z_2, sigma):\n",
    "    N = z_1.size(0)\n",
    "    kernel = 0\n",
    "    kernel += (1/(N*(N-1))) * (kernel_of_same_batch(z_1, z_1, sigma=sigma) + kernel_of_same_batch(z_2, z_2, sigma=sigma))\n",
    "    kernel += (-2/(N*N)) * kernel_of_different_batch(z_1, z_2, sigma=sigma)\n",
    "    return kernel"
   ]
  },
  {
   "cell_type": "code",
   "execution_count": 16,
   "metadata": {},
   "outputs": [
    {
     "name": "stdout",
     "output_type": "stream",
     "text": [
      "tensor(0.4424)\n"
     ]
    }
   ],
   "source": [
    "z_1 = torch.ones(100,50,1)\n",
    "z_2 = torch.zeros(100,50,1)\n",
    "sigma = 100\n",
    "print(calc_kernel(z_1, z_2, sigma))"
   ]
  },
  {
   "cell_type": "code",
   "execution_count": 27,
   "metadata": {},
   "outputs": [],
   "source": [
    "# Inverse Multiquadratics kernel\n",
    "S = torch.tensor([0.1, 0.2, 0.5, 1.0, 2.0, 5.0, 10.0])\n",
    "def IMK_of_one_batch(z_1, z_2, S):\n",
    "    length, dim = z_1.size(0), z_1.size(1)\n",
    "    z_1 = z_1.reshape(length*dim)\n",
    "    z_2 = z_2.reshape(length*dim)#a\n",
    "    l2_norm = torch.norm(z_1 - z_2)*torch.norm(z_1 - z_2)\n",
    "    C = torch.rand(1)[0]*15.9 + 0.1\n",
    "    kernel = 0\n",
    "    for s in S:\n",
    "        kernel += (s*C)/(s*C + l2_norm)\n",
    "    return kernel\n",
    "\n",
    "def IMK_of_different_batch(z_1, z_2, S):\n",
    "    N = z_1.size(0)\n",
    "    kernel = 0\n",
    "    for i in range(N):\n",
    "        for j in range(N):\n",
    "            kernel += IMK_of_one_batch(z_1[i], z_2[j], S)\n",
    "    return kernel\n",
    "\n",
    "def IMK_of_same_batch(z_1, z_2, S):\n",
    "    N = z_1.size(0)\n",
    "    kernel = 0\n",
    "    for i in range(N):\n",
    "        for j in range(N):\n",
    "            if i != j:\n",
    "                kernel += IMK_of_one_batch(z_1[i], z_2[j], S)\n",
    "    return kernel\n",
    "\n",
    "def calc_IMK(z_1, z_2):\n",
    "    S = torch.tensor([0.1, 0.2, 0.5, 1.0, 2.0, 5.0, 10.0])\n",
    "    N = z_1.size(0)\n",
    "    kernel = 0\n",
    "    kernel += (1/(N*(N-1))) * (IMK_of_same_batch(z_1, z_1,S) + IMK_of_same_batch(z_2, z_2, S))\n",
    "    kernel += (-2/(N*N)) * IMK_of_different_batch(z_1, z_2, S)\n",
    "    return kernel\n",
    "        \n",
    "    "
   ]
  },
  {
   "cell_type": "code",
   "execution_count": 28,
   "metadata": {},
   "outputs": [
    {
     "name": "stdout",
     "output_type": "stream",
     "text": [
      "tensor(23.0926)\n"
     ]
    }
   ],
   "source": [
    "z_1 = torch.ones(5,50,1)\n",
    "z_2 = torch.zeros(5,50,1)\n",
    "one = torch.tensor(12.)\n",
    "print(calc_IMK(z_1, z_2)+one)"
   ]
  },
  {
   "cell_type": "code",
   "execution_count": 24,
   "metadata": {},
   "outputs": [
    {
     "data": {
      "text/plain": [
       "tensor(0.3630)"
      ]
     },
     "execution_count": 24,
     "metadata": {},
     "output_type": "execute_result"
    }
   ],
   "source": [
    "torch.rand(1)[0]"
   ]
  },
  {
   "cell_type": "code",
   "execution_count": null,
   "metadata": {},
   "outputs": [],
   "source": []
  }
 ],
 "metadata": {
  "interpreter": {
   "hash": "40d3a090f54c6569ab1632332b64b2c03c39dcf918b08424e98f38b5ae0af88f"
  },
  "kernelspec": {
   "display_name": "Python 3.8.3 64-bit ('base': conda)",
   "language": "python",
   "name": "python3"
  },
  "language_info": {
   "codemirror_mode": {
    "name": "ipython",
    "version": 3
   },
   "file_extension": ".py",
   "mimetype": "text/x-python",
   "name": "python",
   "nbconvert_exporter": "python",
   "pygments_lexer": "ipython3",
   "version": "3.8.3"
  },
  "orig_nbformat": 4
 },
 "nbformat": 4,
 "nbformat_minor": 2
}

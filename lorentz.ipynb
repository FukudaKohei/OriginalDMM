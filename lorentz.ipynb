{
 "cells": [
  {
   "cell_type": "code",
   "execution_count": 1,
   "metadata": {},
   "outputs": [],
   "source": [
    "import numpy as np\n",
    "import matplotlib.pyplot as plt\n",
    "import matplotlib.ticker as ticker\n",
    "import torch"
   ]
  },
  {
   "cell_type": "code",
   "execution_count": 50,
   "metadata": {},
   "outputs": [],
   "source": [
    "def lorentz(init, length, T, p=10., r=28., b=8/3):\n",
    "    interval = T / length\n",
    "    pos = []\n",
    "    prev_pos = init\n",
    "    pos.append(prev_pos)\n",
    "    for i in range(length):\n",
    "        next_pos = torch.zeros(3)\n",
    "        next_pos[0] = prev_pos[0] + interval * (-p*(prev_pos[0] - prev_pos[1]))\n",
    "        next_pos[1] = prev_pos[1] + interval * (-prev_pos[0]*prev_pos[2] + r*prev_pos[0] - prev_pos[1])\n",
    "        next_pos[2] = prev_pos[2] + interval * (prev_pos[0]*prev_pos[1] - b*prev_pos[2])\n",
    "        pos.append(next_pos)\n",
    "        prev_pos = next_pos\n",
    "    pos = torch.stack(pos)\n",
    "    return pos\n",
    "\n",
    "def VanDelPol(init, length, T, eps=0.3):\n",
    "    interval = T / length\n",
    "    pos = []\n",
    "    prev_pos = init\n",
    "    pos.append(prev_pos)\n",
    "    for i in range(length):\n",
    "        next_pos = torch.zeros(2)\n",
    "        next_pos[0] = prev_pos[0] + interval * (prev_pos[1])\n",
    "        next_pos[1] = prev_pos[1] + interval * (-prev_pos[0] + eps*prev_pos[1]*(1 - prev_pos[0]*prev_pos[0]))\n",
    "        pos.append(next_pos)\n",
    "        prev_pos = next_pos\n",
    "    pos = torch.stack(pos)\n",
    "    return pos\n",
    "\n",
    "\n",
    "def Nonlinear(init, length, T):\n",
    "    interval = T / length\n",
    "    pos = []\n",
    "    prev_pos = init\n",
    "    pos.append(prev_pos)\n",
    "    for i in range(length):\n",
    "        next_pos = torch.zeros(1)\n",
    "        # next_pos[0] = prev_pos[0] + interval * (-prev_pos[0] * prev_pos[0] * prev_pos[0])\n",
    "        next_pos[0] = prev_pos[0] + interval * (-prev_pos[0] * prev_pos[0] + prev_pos[0])\n",
    "        pos.append(next_pos)\n",
    "        prev_pos = next_pos\n",
    "    pos = torch.stack(pos)\n",
    "    return pos"
   ]
  },
  {
   "cell_type": "code",
   "execution_count": 51,
   "metadata": {},
   "outputs": [],
   "source": [
    "# init = torch.tensor([1.,1.,1.])\n",
    "# length = 1000\n",
    "# T = 10\n",
    "# pos = lorentz(init, length, T)\n",
    "\n",
    "# init = torch.tensor([1.,10.])\n",
    "# length = 10000\n",
    "# T = 100\n",
    "# pos = VanDelPol(init, length, T, eps=5.)\n",
    "\n",
    "init = torch.tensor([1.])\n",
    "length = 10000\n",
    "T = 100\n",
    "pos = Nonlinear(init, length, T)"
   ]
  },
  {
   "cell_type": "code",
   "execution_count": 52,
   "metadata": {},
   "outputs": [
    {
     "data": {
      "text/plain": [
       "<matplotlib.legend.Legend at 0x7f5b5b8b2640>"
      ]
     },
     "execution_count": 52,
     "metadata": {},
     "output_type": "execute_result"
    },
    {
     "data": {
      "image/png": "[encoded data removed]",
      "text/plain": [
       "<Figure size 432x288 with 1 Axes>"
      ]
     },
     "metadata": {
      "needs_background": "light"
     },
     "output_type": "display_data"
    }
   ],
   "source": [
    "# fig = plt.figure()\n",
    "# ax = fig.add_subplot(projection='3d')\n",
    "# plt.rcParams[\"font.size\"] = 10\n",
    "# plt.plot(pos[:,0], pos[:,1], pos[:,2] , label=\"Training data\")\n",
    "# plt.title(\"Lorentz Curves\")\n",
    "# plt.legend()\n",
    "# fig.savefig(\"Lorentz\"+\".png\")\n",
    "\n",
    "# fig = plt.figure()\n",
    "# ax = fig.add_subplot()\n",
    "# plt.rcParams[\"font.size\"] = 10\n",
    "# plt.plot(pos[:,0], pos[:,1], label=\"Training data\")\n",
    "# plt.title(\"Van Del Pol\")\n",
    "# plt.legend()\n",
    "# fig.savefig(\"Lorentz\"+\".png\")\n",
    "\n",
    "fig = plt.figure()\n",
    "ax = fig.add_subplot()\n",
    "plt.rcParams[\"font.size\"] = 10\n",
    "plt.plot(pos[:,0], label=\"Training data\")\n",
    "plt.title(\"Nonlinear\")\n",
    "plt.legend()"
   ]
  },
  {
   "cell_type": "code",
   "execution_count": null,
   "metadata": {},
   "outputs": [],
   "source": []
  }
 ],
 "metadata": {
  "interpreter": {
   "hash": "74e73a0e7102a893564b6115a2124e9976edb53d12febb5cf682a47c83cf5635"
  },
  "kernelspec": {
   "display_name": "Python 3.8.5 64-bit ('base': conda)",
   "language": "python",
   "name": "python3"
  },
  "language_info": {
   "codemirror_mode": {
    "name": "ipython",
    "version": 3
   },
   "file_extension": ".py",
   "mimetype": "text/x-python",
   "name": "python",
   "nbconvert_exporter": "python",
   "pygments_lexer": "ipython3",
   "version": "3.8.3"
  },
  "orig_nbformat": 4
 },
 "nbformat": 4,
 "nbformat_minor": 2
}

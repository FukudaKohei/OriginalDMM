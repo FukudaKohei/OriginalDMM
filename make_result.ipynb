{
 "cells": [
  {
   "cell_type": "code",
   "execution_count": null,
   "metadata": {},
   "outputs": [],
   "source": [
    "from cProfile import label\n",
    "from pickletools import optimize\n",
    "from random import sample\n",
    "import numpy as np\n",
    "import torch\n",
    "from torch import nn\n",
    "import torch.optim as optim\n",
    "from torch.autograd import Variable\n",
    "import torch.nn.functional as F\n",
    "import math\n",
    "import matplotlib.pyplot as plt"
   ]
  },
  {
   "cell_type": "code",
   "execution_count": null,
   "metadata": {},
   "outputs": [],
   "source": [
    "length = 6\n",
    "place = \"Xline/\"\n",
    "name = \"result\"\n",
    "\n",
    "dim1_gene_av = torch.tensor\n",
    "dim1_gene_sg = torch.tensor\n",
    "\n",
    "dim2_gene_av = torch.tensor([[0.0679],\n",
    "        [1.0343],\n",
    "        [2.0732],\n",
    "        [3.1123],\n",
    "        [4.1033],\n",
    "        [5.0121]])\n",
    "dim2_gene_sg = torch.tensor([[0.4514],\n",
    "        [0.5739],\n",
    "        [0.6117],\n",
    "        [0.5777],\n",
    "        [0.6727],\n",
    "        [0.6644]])\n",
    "\n",
    "\n",
    "training_av = torch.tensor([[i * 1.0] for i in range(length)])\n",
    "training_sg = torch.tensor([[1.0] for i in range(length)])\n",
    "\n",
    "\n",
    "\n",
    "FS = 15\n",
    "fig = plt.figure(figsize=(9, 5))\n",
    "# plt.title(\"Sin Curves\")\n",
    "plt.xlabel(\"t\", fontsize=15)\n",
    "# plt.ylabel(\"y\", fontsize=FS)\n",
    "plt.rcParams[\"font.size\"] = FS\n",
    "training_color = \"black\"\n",
    "plt.errorbar(np.arange(0,length), training_av.detach().numpy(), yerr = training_sg.detach().numpy(), capsize=5, fmt='o', markersize=10, ecolor='black', markeredgecolor = \"black\", color='black')\n",
    "plt.plot(np.arange(0,length), training_av.detach().numpy(),color='black', label=\"Training Data\")\n",
    "gene_color = \"orange\"\n",
    "plt.errorbar(np.arange(0,length), dim1_gene_av.detach().numpy(), yerr = dim1_gene_sg.detach().numpy(), capsize=5, fmt='o', markersize=6, ecolor=gene_color, markeredgecolor = gene_color, color=gene_color)\n",
    "plt.plot(np.arange(0,length), dim1_gene_av.detach().numpy(),color=gene_color, label=\"Generated Data\")\n",
    "gene_color = \"red\"\n",
    "plt.errorbar(np.arange(0,length), dim2_gene_av.detach().numpy(), yerr = dim2_gene_sg.detach().numpy(), capsize=5, fmt='o', markersize=6, ecolor=gene_color, markeredgecolor = gene_color, color=gene_color)\n",
    "plt.plot(np.arange(0,length), dim2_gene_av.detach().numpy(),color=gene_color, label=\"Generated Data\")\n",
    "# plt.xticks([0,1,2,3], [0,1,2,3], size=15)\n",
    "# plt.yticks([0, 3, 6, 9], [0, 3, 6, 9],size=15)\n",
    "plt.grid()\n",
    "plt.legend()\n",
    "plt.savefig(place + name +  \"_result.pdf\")"
   ]
  }
 ],
 "metadata": {
  "language_info": {
   "name": "python"
  },
  "orig_nbformat": 4
 },
 "nbformat": 4,
 "nbformat_minor": 2
}

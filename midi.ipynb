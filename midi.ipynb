{
 "metadata": {
  "language_info": {
   "codemirror_mode": {
    "name": "ipython",
    "version": 3
   },
   "file_extension": ".py",
   "mimetype": "text/x-python",
   "name": "python",
   "nbconvert_exporter": "python",
   "pygments_lexer": "ipython3",
   "version": "3.8.5-final"
  },
  "orig_nbformat": 2,
  "kernelspec": {
   "name": "python3",
   "display_name": "Python 3",
   "language": "python"
  }
 },
 "nbformat": 4,
 "nbformat_minor": 2,
 "cells": [
  {
   "cell_type": "code",
   "execution_count": 46,
   "metadata": {},
   "outputs": [],
   "source": [
    "import mido\n",
    "from mido import Message, MidiFile, MidiTrack, MetaMessage\n",
    "import time\n",
    "\n",
    "mid = MidiFile()\n",
    "track = MidiTrack()\n",
    "mid.tracks.append(track)\n",
    "track.append(MetaMessage('set_tempo', tempo=mido.bpm2tempo(120)))\n",
    "track.append(Message('note_on', note=64, velocity=127, time=0))\n",
    "track.append(Message('note_on', note=68, velocity=127, time=0))\n",
    "track.append(Message('note_off', note=64, time=960))\n",
    "track.append(Message('note_off', note=66, time=960))\n",
    "\n",
    "mid.save('new_song.mid')"
   ]
  },
  {
   "cell_type": "code",
   "execution_count": 47,
   "metadata": {
    "tags": []
   },
   "outputs": [
    {
     "output_type": "stream",
     "name": "stdout",
     "text": [
      "<open output 'Microsoft GS Wavetable Synth 0' (RtMidi/WINDOWS_MM)> note_on channel=0 note=64 velocity=127 time=0\n",
      "<open output 'Microsoft GS Wavetable Synth 0' (RtMidi/WINDOWS_MM)> note_on channel=0 note=68 velocity=127 time=0\n",
      "<open output 'Microsoft GS Wavetable Synth 0' (RtMidi/WINDOWS_MM)> note_off channel=0 note=64 velocity=64 time=1.0\n",
      "<open output 'Microsoft GS Wavetable Synth 0' (RtMidi/WINDOWS_MM)> note_off channel=0 note=66 velocity=64 time=1.0\n"
     ]
    }
   ],
   "source": [
    "ports = mido.get_output_names()\n",
    "with mido.open_output(ports[0]) as outport:\n",
    "    # for msg in mido.MidiFile('S_22_4.mid'):\n",
    "    for msg in mido.MidiFile('new_song.mid'):\n",
    "        time.sleep(msg.time)\n",
    "        if not msg.is_meta:\n",
    "            print(outport, msg)\n",
    "            outport.send(msg) "
   ]
  },
  {
   "cell_type": "code",
   "execution_count": null,
   "metadata": {},
   "outputs": [],
   "source": []
  },
  {
   "cell_type": "code",
   "execution_count": null,
   "metadata": {},
   "outputs": [],
   "source": []
  }
 ]
}